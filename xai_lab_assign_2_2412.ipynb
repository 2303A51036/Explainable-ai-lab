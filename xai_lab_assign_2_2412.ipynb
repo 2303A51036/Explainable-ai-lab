{
  "cells": [
    {
      "cell_type": "markdown",
      "metadata": {
        "id": "view-in-github",
        "colab_type": "text"
      },
      "source": [
        "<a href=\"https://colab.research.google.com/github/2303A51036/Explainable-ai-lab/blob/main/xai_lab_assign_2_2412.ipynb\" target=\"_parent\"><img src=\"https://colab.research.google.com/assets/colab-badge.svg\" alt=\"Open In Colab\"/></a>"
      ]
    },
    {
      "cell_type": "code",
      "execution_count": null,
      "metadata": {
        "id": "Ly9Kdoopwj_o"
      },
      "outputs": [],
      "source": [
        "import pandas as pd\n",
        "import numpy as np\n",
        "import matplotlib.pyplot as plt\n",
        "import shap\n",
        "from sklearn.model_selection import train_test_split\n",
        "from sklearn.preprocessing import StandardScaler, OneHotEncoder\n",
        "from sklearn.compose import ColumnTransformer\n",
        "from sklearn.pipeline import Pipeline\n",
        "from sklearn.ensemble import RandomForestClassifier\n",
        "from sklearn.metrics import accuracy_score, precision_score, recall_score, f1_score, roc_auc_score, confusion_matrix\n",
        "\n",
        "\n",
        "# Load Dataset\n",
        "\n",
        "df = pd.read_csv(\"/content/online_shoppers_intention.csv.zip\")\n",
        "print(\"Shape:\", df.shape)\n",
        "print(df.head())\n",
        "\n",
        "\n",
        "target = \"Revenue\"\n",
        "\n",
        "\n",
        "df[target] = df[target].astype(int)\n",
        "\n",
        "\n",
        "df = df.drop_duplicates()\n",
        "\n",
        "\n",
        "print(\"Missing values:\\n\", df.isnull().sum())\n",
        "\n",
        "\n",
        "categorical_cols = df.select_dtypes(include=[\"object\", \"bool\"]).columns.tolist()\n",
        "categorical_cols = [c for c in categorical_cols if c != target]\n",
        "numeric_cols = df.select_dtypes(include=[\"int64\", \"float64\"]).columns.tolist()\n",
        "numeric_cols = [c for c in numeric_cols if c != target]\n",
        "\n",
        "print(\"Numeric Features:\", numeric_cols)\n",
        "print(\"Categorical Features:\", categorical_cols)\n",
        "\n",
        "-\n",
        "X = df.drop(columns=[target])\n",
        "y = df[target]\n",
        "\n",
        "X_train, X_test, y_train, y_test = train_test_split(\n",
        "    X, y, test_size=0.2, random_state=42, stratify=y\n",
        ")\n",
        "\n",
        "\n",
        "numeric_transformer = Pipeline(steps=[\n",
        "    (\"scaler\", StandardScaler())\n",
        "])\n",
        "categorical_transformer = OneHotEncoder(handle_unknown=\"ignore\")\n",
        "\n",
        "preprocessor = ColumnTransformer(\n",
        "    transformers=[\n",
        "        (\"num\", numeric_transformer, numeric_cols),\n",
        "        (\"cat\", categorical_transformer, categorical_cols),\n",
        "    ]\n",
        ")\n",
        "\n",
        "\n",
        "clf = Pipeline(steps=[\n",
        "    (\"preprocessor\", preprocessor),\n",
        "    (\"model\", RandomForestClassifier(n_estimators=200, random_state=42))\n",
        "])\n",
        "\n",
        "clf.fit(X_train, y_train)\n",
        "y_pred = clf.predict(X_test)\n",
        "y_proba = clf.predict_proba(X_test)[:, 1]\n",
        "\n",
        "\n",
        "acc = accuracy_score(y_test, y_pred)\n",
        "prec = precision_score(y_test, y_pred)\n",
        "rec = recall_score(y_test, y_pred)\n",
        "f1 = f1_score(y_test, y_pred)\n",
        "roc = roc_auc_score(y_test, y_proba)\n",
        "\n",
        "print(\"\\nEvaluation Metrics:\")\n",
        "print(f\"Accuracy:  {acc:.4f}\")\n",
        "print(f\"Precision: {prec:.4f}\")\n",
        "print(f\"Recall:    {rec:.4f}\")\n",
        "print(f\"F1-score:  {f1:.4f}\")\n",
        "print(f\"ROC-AUC:   {roc:.4f}\")\n",
        "print(\"Confusion Matrix:\\n\", confusion_matrix(y_test, y_pred))\n",
        "\n",
        "\n",
        "rf_model = clf.named_steps[\"model\"]\n",
        "X_test_transformed = clf.named_steps[\"preprocessor\"].transform(X_test)\n",
        "\n",
        "\n",
        "ohe = clf.named_steps[\"preprocessor\"].named_transformers_[\"cat\"]\n",
        "ohe_features = ohe.get_feature_names_out(categorical_cols)\n",
        "ohe_features"
      ]
    },
    {
      "cell_type": "code",
      "source": [],
      "metadata": {
        "id": "0ndJRs6J2q6-"
      },
      "execution_count": null,
      "outputs": []
    }
  ],
  "metadata": {
    "colab": {
      "provenance": [],
      "authorship_tag": "ABX9TyO12bP9dgtP1IJMaNbsiY53",
      "include_colab_link": true
    },
    "kernelspec": {
      "display_name": "Python 3",
      "name": "python3"
    },
    "language_info": {
      "name": "python"
    }
  },
  "nbformat": 4,
  "nbformat_minor": 0
}